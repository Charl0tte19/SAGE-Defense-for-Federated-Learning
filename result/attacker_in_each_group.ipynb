{
 "cells": [
  {
   "cell_type": "code",
   "execution_count": 4,
   "id": "formed-masters",
   "metadata": {},
   "outputs": [],
   "source": [
    "import numpy as np\n",
    "import matplotlib.pyplot as plt"
   ]
  },
  {
   "cell_type": "code",
   "execution_count": 5,
   "id": "southwest-momentum",
   "metadata": {},
   "outputs": [],
   "source": [
    "plt.rcParams['font.family'] = 'DeJavu Serif'\n",
    "plt.rcParams['font.serif'] = ['Times New Roman']"
   ]
  },
  {
   "cell_type": "code",
   "execution_count": 14,
   "id": "indonesian-citation",
   "metadata": {},
   "outputs": [],
   "source": [
    "ratio = [0.2]\n",
    "\n",
    "# for fmnist\n",
    "seed = [12]\n",
    "\n",
    "# for mnist\n",
    "#seed = [12]\n",
    "\n",
    "noniid = 0.4\n",
    "where='fmnist'\n",
    "where_origin='fmnist_origin'\n",
    "epoch = 20\n",
    "\n",
    "last_round = [[] for i in range(len(seed))]\n",
    "group = [[] for i in range(len(seed))]\n",
    "\n",
    "for s in range(len(seed)):\n",
    "    for r in ratio:\n",
    "        path = './' + where + '/seed_' + str(seed[s]) + '/' + '/noniid_' + str(noniid) + '/ratio_' + str(r) + '/round.txt'\n",
    "        with open(path) as f:\n",
    "            lines = f.readlines()\n",
    "            for line in range(len(lines)-1,len(lines)):\n",
    "                save_round = eval(lines[line].split(\" \")[-1])\n",
    "                \n",
    "        path = './' + where + '/seed_' + str(seed[s]) + '/' + '/noniid_' + str(noniid) + '/ratio_' + str(r) + '/num.txt'\n",
    "        with open(path) as f:\n",
    "            lines = f.readlines()\n",
    "            for line in range(save_round*10,save_round*10+10):\n",
    "                last_round[s].append(lines[line])\n",
    "        \n",
    "        path = './' + where + '/seed_' + str(seed[s]) + '/' + '/noniid_' + str(noniid) + '/ratio_' + str(r) + '/client.txt'\n",
    "        with open(path) as f:\n",
    "            lines = f.readlines()\n",
    "            group[s].append(lines[len(lines)-3])\n",
    "            group[s].append(lines[len(lines)-2])\n",
    "            group[s].append(lines[len(lines)-1])\n",
    "        \n",
    "    for i in range(len(last_round[0])):\n",
    "        last_round[s][i] = last_round[s][i].split(\" \")[1]\n",
    "        last_round[s][i] = int(last_round[s][i].split(\"/\")[0])\n",
    "\n",
    "    for i in range(len(group[0])):\n",
    "        group[s][i] = group[s][i].split(\":\")[1]\n",
    "        group[s][i] = eval(group[s][i])"
   ]
  },
  {
   "cell_type": "code",
   "execution_count": 15,
   "id": "modified-investigator",
   "metadata": {},
   "outputs": [],
   "source": [
    "rec_order_good = [[] for i in range(len(seed))]\n",
    "rec_order_normal = [[] for i in range(len(seed))]\n",
    "rec_order_bad = [[] for i in range(len(seed))]\n",
    "\n",
    "for s in range(len(seed)):\n",
    "    for g in group[s][0]:\n",
    "        rec_order_good[s].append(last_round[s][g])\n",
    "    rec_order_good[s].sort()\n",
    "    for g in group[s][1]:\n",
    "        rec_order_normal[s].append(last_round[s][g])\n",
    "    rec_order_normal[s].sort()\n",
    "    for g in group[s][2]:\n",
    "        rec_order_bad[s].append(last_round[s][g])\n",
    "    rec_order_bad[s].sort()\n"
   ]
  },
  {
   "cell_type": "code",
   "execution_count": 16,
   "id": "future-cross",
   "metadata": {},
   "outputs": [
    {
     "data": {
      "image/png": "[encoded data removed]",
      "text/plain": [
       "<Figure size 360x720 with 1 Axes>"
      ]
     },
     "metadata": {
      "needs_background": "light"
     },
     "output_type": "display_data"
    }
   ],
   "source": [
    "fig, ax = plt.subplots(figsize=(5,10))\n",
    "\n",
    "x = [i for i in range(len(seed))]\n",
    "acc = np.array([0 for i in range(len(seed))])\n",
    "\n",
    "good_color = ['#C5E1A5','#9CCC65','#7CB342','#558B2F','#AED581','#8BC34A','#689F38','#33691E','#A5D6A7']\n",
    "normal_color = ['#FFE57F','#FFCA28','#FFB300','#FF8F00','#FFCA28','#FFC107','#FFA000','#FF6F00','#FFF59D']\n",
    "bad_color = ['#F48FB1','#EC407A','#D81B60','#AD1457','#F06292','#E91E63','#C2185B','#880E4F','#ef9a9a']\n",
    "#ax.set_yticks([0,4,8,12,16,20])\n",
    "ax.set_xticks(x)\n",
    "\n",
    "ax.set_xlabel(\"Experiments\",fontsize=30)\n",
    "#ax.set_ylabel(\"Malicious clients\",fontsize=30)\n",
    "ax.tick_params(labelsize=25)\n",
    "\n",
    "y = [0 for i in range(len(seed))]\n",
    "ax.bar(x,y,color=good_color[2],label='Good group ' + r'($\\mathcal{G}$)')\n",
    "ax.bar(x,y,color=normal_color[2],label='Intermediate group ' + r'($\\mathcal{I}$)')\n",
    "ax.bar(x,y,color=bad_color[2],label='Bad group ' + r'($\\mathcal{B}$)')\n",
    "\n",
    "ax.legend(loc='upper center',bbox_to_anchor =(0.5, 1.1),ncol=3,fontsize=13)\n",
    "\n",
    "for i in range(len(seed)):\n",
    "    for k in range(len(rec_order_good[i])):\n",
    "        y = [0 for i in range(len(seed))]\n",
    "        y[i] = rec_order_good[i][k]\n",
    "        ax.bar(x,y,bottom=acc,color=good_color[k])\n",
    "        acc[i] += rec_order_good[i][k]\n",
    "        if(y[i]!=0 and ratio[0]>=0.1):\n",
    "            if(y[i]>9):\n",
    "                ax.text(x[i],acc[i]-y[i]/2*1.4,str(y[i]),fontsize=15)\n",
    "            else:\n",
    "                ax.text(x[i],acc[i]-y[i]/2*1.4,str(y[i]),fontsize=15)\n",
    "        elif(y[i]!=0):\n",
    "            if(y[i]>9):\n",
    "                ax.text(x[i],acc[i]-y[i]/2*1.4,str(y[i]),fontsize=15)\n",
    "            else:\n",
    "                ax.text(x[i],acc[i]-y[i]/2*1.4,str(y[i]),fontsize=15)\n",
    "        \n",
    "    for k in range(len(rec_order_normal[i])):\n",
    "        y = [0 for i in range(len(seed))]\n",
    "        y[i] = rec_order_normal[i][k]\n",
    "        ax.bar(x,y,bottom=acc,color=normal_color[k])\n",
    "        acc[i] += rec_order_normal[i][k]\n",
    "        if(y[i]!=0 and ratio[0]>=0.1):\n",
    "            if(y[i]>9):\n",
    "                ax.text(x[i],acc[i]-y[i]/2,str(y[i]),fontsize=15)\n",
    "            else:\n",
    "                ax.text(x[i],acc[i]-y[i]/2,str(y[i]),fontsize=15)\n",
    "        elif(y[i]!=0):\n",
    "            if(y[i]>9):\n",
    "                ax.text(x[i],acc[i]-y[i]/2,str(y[i]),fontsize=15)\n",
    "            else:\n",
    "                ax.text(x[i],acc[i]-y[i]/2,str(y[i]),fontsize=15)\n",
    "                \n",
    "    for k in range(len(rec_order_bad[i])):    \n",
    "        y = [0 for i in range(len(seed))]\n",
    "        y[i] = rec_order_bad[i][k]\n",
    "        ax.bar(x,y,bottom=acc,color=bad_color[k])\n",
    "        acc[i] += rec_order_bad[i][k]\n",
    "        if(y[i]!=0 and ratio[0]>=0.1):\n",
    "            if(y[i]>9):\n",
    "                ax.text(x[i],acc[i]-y[i]/2,str(y[i]),fontsize=15)\n",
    "            else:\n",
    "                ax.text(x[i],acc[i]-y[i]/2,str(y[i]),fontsize=15)\n",
    "        elif(y[i]!=0):\n",
    "            if(y[i]>9):\n",
    "                ax.text(x[i],acc[i]-y[i]/2,str(y[i]),fontsize=15)\n",
    "            else:\n",
    "                ax.text(x[i],acc[i]-y[i]/2,str(y[i]),fontsize=15)"
   ]
  },
  {
   "cell_type": "code",
   "execution_count": null,
   "id": "french-pepper",
   "metadata": {},
   "outputs": [],
   "source": []
  },
  {
   "cell_type": "code",
   "execution_count": null,
   "id": "sexual-orange",
   "metadata": {},
   "outputs": [],
   "source": []
  }
 ],
 "metadata": {
  "kernelspec": {
   "display_name": "Python 3",
   "language": "python",
   "name": "python3"
  },
  "language_info": {
   "codemirror_mode": {
    "name": "ipython",
    "version": 3
   },
   "file_extension": ".py",
   "mimetype": "text/x-python",
   "name": "python",
   "nbconvert_exporter": "python",
   "pygments_lexer": "ipython3",
   "version": "3.8.5"
  }
 },
 "nbformat": 4,
 "nbformat_minor": 5
}
