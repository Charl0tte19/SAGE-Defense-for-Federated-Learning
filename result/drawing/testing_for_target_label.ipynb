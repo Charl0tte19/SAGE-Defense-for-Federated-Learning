{
 "cells": [
  {
   "cell_type": "code",
   "execution_count": 58,
   "id": "liberal-baptist",
   "metadata": {},
   "outputs": [],
   "source": [
    "import numpy as np\n",
    "import matplotlib.pyplot as plt\n",
    "\n",
    "ratio = [0.2]\n",
    "seed = [12, 13, 17, 18, 29, 32, 50, 58, 77, 87]\n",
    "\n",
    "#seed = [12, 17, 18, 29, 32, 41, 50, 58, 77, 87]\n",
    "noniid = 0.8\n",
    "where='fmnist'\n",
    "where_origin='fmnist_origin'\n",
    "testing = [[] for i in range(len(seed))]\n",
    "origin_testing = [[] for i in range(len(seed))]\n",
    "\n",
    "'''\n",
    "# for mnist\n",
    "if(ratio[0]<=0.1):\n",
    "    target_label = [7]\n",
    "elif(ratio[0]<=0.2):\n",
    "    target_label = [7,3]\n",
    "elif(ratio[0]<=0.3):\n",
    "    target_label = [7,3,5]\n",
    "elif(ratio[0]<=0.4):\n",
    "    target_label = [7,3,5,1]\n",
    "elif(ratio[0]<=0.5):\n",
    "    target_label = [7,3,5,1,9]\n",
    "\n",
    "\n",
    "'''\n",
    "# for fmnist\n",
    "if(ratio[0]<=0.1):\n",
    "    target_label = [2]\n",
    "elif(ratio[0]<=0.2):\n",
    "    target_label = [2,4]\n",
    "elif(ratio[0]<=0.3):\n",
    "    target_label = [2,4,0]\n",
    "elif(ratio[0]<=0.4):\n",
    "    target_label = [2,4,0,3]\n",
    "elif(ratio[0]<=0.5):\n",
    "    target_label = [2,4,0,3,6]\n",
    "\n",
    "\n",
    "for s in range(len(seed)):\n",
    "    for r in ratio:\n",
    "        path = '/mnt/d/My_FL/My_FL/src/' + where + '/seed_' + str(seed[s]) + '/' + '/noniid_' + str(noniid) + '/ratio_' + str(r) + '/testing.txt'\n",
    "        with open(path) as f:\n",
    "            lines = f.readlines()\n",
    "            testing[s].append(lines[-3])\n",
    "        \n",
    "    for i in range(len(testing[0])):\n",
    "        testing[s][i] = testing[s][i].split(\":\")[1]\n",
    "        testing[s][i] = eval(testing[s][i].split(\"\\n\")[0])\n",
    "            \n",
    "    tmp = []\n",
    "    for j in target_label:\n",
    "        tmp.append(testing[s][i][j])\n",
    "    testing[s][i] = min(tmp)\n",
    "    \n",
    "\n",
    "\n",
    "for s in range(len(seed)):\n",
    "    for r in ratio:\n",
    "        path = '/mnt/d/My_FL/My_FL/src/' + where_origin + '/seed_' + str(seed[s]) + '/' + '/noniid_' + str(noniid) + '/ratio_' + str(r) + '/origin_testing.txt'\n",
    "        with open(path) as f:\n",
    "            lines = f.readlines()\n",
    "            origin_testing[s].append(lines[-3])\n",
    "    \n",
    "    for i in range(len(origin_testing[0])):\n",
    "        origin_testing[s][i] = origin_testing[s][i].split(\":\")[1]\n",
    "        origin_testing[s][i] = eval(origin_testing[s][i].split(\"\\n\")[0])\n",
    "        \n",
    "    tmp = []\n",
    "    for j in target_label:\n",
    "        tmp.append(origin_testing[s][i][j])\n",
    "    origin_testing[s][i] = min(tmp)"
   ]
  },
  {
   "cell_type": "code",
   "execution_count": 59,
   "id": "dramatic-laundry",
   "metadata": {},
   "outputs": [
    {
     "name": "stdout",
     "output_type": "stream",
     "text": [
      "[[0.6279069781303406], [0.7142857313156128], [0.5963455438613892], [0.4992101192474365], [0.6694352030754089], [0.6378737688064575], [0.7026578187942505], [0.6872037649154663], [0.6097946166992188], [0.6650868654251099]]\n",
      "[[0.6145339608192444], [0.5655608177185059], [0.4966777265071869], [0.5086888074874878], [0.579734206199646], [0.519747257232666], [0.48671096563339233], [0.49605056643486023], [0.521327018737793], [0.5348837375640869]]\n"
     ]
    }
   ],
   "source": [
    "print(testing)\n",
    "print(origin_testing)"
   ]
  },
  {
   "cell_type": "code",
   "execution_count": 60,
   "id": "amateur-worth",
   "metadata": {},
   "outputs": [
    {
     "name": "stdout",
     "output_type": "stream",
     "text": [
      "1\n",
      "[0.64098004]\n",
      "1\n",
      "[0.0599578]\n"
     ]
    }
   ],
   "source": [
    "mean_testing = np.mean(np.array(testing),0)\n",
    "origin_mean_testing = np.mean(np.array(origin_testing),0)\n",
    "print(len(mean_testing))\n",
    "print(mean_testing)\n",
    "std_testing = np.std(np.array(testing),0)\n",
    "origin_std_testing = np.std(np.array(origin_testing),0)\n",
    "print(len(std_testing))\n",
    "print(std_testing)\n",
    "\n",
    "max_testing = mean_testing + std_testing\n",
    "min_testing = mean_testing - std_testing\n",
    "\n",
    "tmp = np.max(np.array(testing),0)\n",
    "tmp2 = np.min(np.array(testing),0)\n",
    "for i in range(len(max_testing)):\n",
    "    if(tmp[i]<max_testing[i]):\n",
    "        max_testing[i] = tmp[i]\n",
    "    if(tmp2[i]>min_testing[i]):\n",
    "        min_testing[i] = tmp2[i]\n",
    "\n",
    "origin_max_testing = origin_mean_testing + origin_std_testing\n",
    "origin_min_testing = origin_mean_testing - origin_std_testing\n",
    "\n",
    "tmp = np.max(np.array(origin_testing),0)\n",
    "tmp2 = np.min(np.array(origin_testing),0)\n",
    "for i in range(len(origin_max_testing)):\n",
    "    if(tmp[i]<origin_max_testing[i]):\n",
    "        origin_max_testing[i] = tmp[i]\n",
    "    if(tmp2[i]>origin_min_testing[i]):\n",
    "        origin_min_testing[i] = tmp2[i]\n"
   ]
  },
  {
   "cell_type": "code",
   "execution_count": 61,
   "id": "biblical-creation",
   "metadata": {},
   "outputs": [
    {
     "name": "stdout",
     "output_type": "stream",
     "text": [
      "Our method:  [0.64098004]\n",
      "typical FL:  [0.53239151]\n"
     ]
    }
   ],
   "source": [
    "print('Our method: ',mean_testing)\n",
    "print('typical FL: ',origin_mean_testing)"
   ]
  },
  {
   "cell_type": "code",
   "execution_count": null,
   "id": "elementary-notebook",
   "metadata": {},
   "outputs": [],
   "source": []
  },
  {
   "cell_type": "code",
   "execution_count": null,
   "id": "civilian-album",
   "metadata": {},
   "outputs": [],
   "source": []
  }
 ],
 "metadata": {
  "kernelspec": {
   "display_name": "Python 3",
   "language": "python",
   "name": "python3"
  },
  "language_info": {
   "codemirror_mode": {
    "name": "ipython",
    "version": 3
   },
   "file_extension": ".py",
   "mimetype": "text/x-python",
   "name": "python",
   "nbconvert_exporter": "python",
   "pygments_lexer": "ipython3",
   "version": "3.8.5"
  }
 },
 "nbformat": 4,
 "nbformat_minor": 5
}
