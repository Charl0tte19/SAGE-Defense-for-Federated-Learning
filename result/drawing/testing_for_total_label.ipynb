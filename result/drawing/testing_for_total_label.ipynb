{
 "cells": [
  {
   "cell_type": "code",
   "execution_count": 74,
   "id": "welcome-congo",
   "metadata": {},
   "outputs": [],
   "source": [
    "import numpy as np\n",
    "import matplotlib.pyplot as plt\n",
    "\n",
    "ratio = [0.04]\n",
    "seed = [12, 13, 17, 18, 29, 32, 50, 58, 77, 87]\n",
    "\n",
    "#seed = [12, 17, 18, 29, 32, 41, 50, 58, 77, 87]\n",
    "noniid = 0.8\n",
    "where='fmnist'\n",
    "where_origin='fmnist_origin'\n",
    "\n",
    "testing = [[] for i in range(len(seed))]\n",
    "origin_testing = [[] for i in range(len(seed))]\n",
    "\n",
    "for s in range(len(seed)):\n",
    "    for r in ratio:\n",
    "        path = '/mnt/d/My_FL/My_FL/src/' + where + '/seed_' + str(seed[s]) + '/' + '/noniid_' + str(noniid) + '/ratio_' + str(r) + '/testing.txt'\n",
    "        with open(path) as f:\n",
    "            lines = f.readlines()\n",
    "            testing[s].append(lines[-2])\n",
    "        \n",
    "    for i in range(len(testing[0])):\n",
    "        testing[s][i] = testing[s][i].split(\":\")[1]\n",
    "        testing[s][i] = eval(testing[s][i].split(\"\\n\")[0])\n",
    "            \n",
    "for s in range(len(seed)):\n",
    "    for r in ratio:\n",
    "        path = '/mnt/d/My_FL/My_FL/src/' + where_origin + '/seed_' + str(seed[s]) + '/' + '/noniid_' + str(noniid) + '/ratio_' + str(r) + '/origin_testing.txt'\n",
    "        with open(path) as f:\n",
    "            lines = f.readlines()\n",
    "            origin_testing[s].append(lines[-2])\n",
    "    \n",
    "    for i in range(len(origin_testing[0])):\n",
    "        origin_testing[s][i] = origin_testing[s][i].split(\":\")[1]\n",
    "        origin_testing[s][i] = eval(origin_testing[s][i].split(\"\\n\")[0])\n"
   ]
  },
  {
   "cell_type": "code",
   "execution_count": 75,
   "id": "worth-perspective",
   "metadata": {},
   "outputs": [
    {
     "name": "stdout",
     "output_type": "stream",
     "text": [
      "[[0.8521252274513245], [0.8576218903064727], [0.8644868791103363], [0.8571535080671311], [0.8385786831378936], [0.8527350842952728], [0.8539791166782379], [0.8395412057638169], [0.8614713490009308], [0.8084210902452469]]\n",
      "[[0.8378278225660324], [0.8366567015647888], [0.7821261659730225], [0.7745333075523376], [0.7796472743619234], [0.8383846640586853], [0.8370399057865143], [0.8235179871320725], [0.8577589094638824], [0.830599445104599]]\n"
     ]
    }
   ],
   "source": [
    "print(testing)\n",
    "print(origin_testing)"
   ]
  },
  {
   "cell_type": "code",
   "execution_count": 76,
   "id": "wrapped-punch",
   "metadata": {},
   "outputs": [
    {
     "name": "stdout",
     "output_type": "stream",
     "text": [
      "1\n",
      "[0.8486114]\n",
      "1\n",
      "[0.01558177]\n"
     ]
    }
   ],
   "source": [
    "mean_testing = np.mean(np.array(testing),0)\n",
    "origin_mean_testing = np.mean(np.array(origin_testing),0)\n",
    "print(len(mean_testing))\n",
    "print(mean_testing)\n",
    "std_testing = np.std(np.array(testing),0)\n",
    "origin_std_testing = np.std(np.array(origin_testing),0)\n",
    "print(len(std_testing))\n",
    "print(std_testing)\n",
    "\n",
    "max_testing = mean_testing + std_testing\n",
    "min_testing = mean_testing - std_testing\n",
    "\n",
    "tmp = np.max(np.array(testing),0)\n",
    "tmp2 = np.min(np.array(testing),0)\n",
    "for i in range(len(max_testing)):\n",
    "    if(tmp[i]<max_testing[i]):\n",
    "        max_testing[i] = tmp[i]\n",
    "    if(tmp2[i]>min_testing[i]):\n",
    "        min_testing[i] = tmp2[i]\n",
    "\n",
    "origin_max_testing = origin_mean_testing + origin_std_testing\n",
    "origin_min_testing = origin_mean_testing - origin_std_testing\n",
    "\n",
    "tmp = np.max(np.array(origin_testing),0)\n",
    "tmp2 = np.min(np.array(origin_testing),0)\n",
    "for i in range(len(origin_max_testing)):\n",
    "    if(tmp[i]<origin_max_testing[i]):\n",
    "        origin_max_testing[i] = tmp[i]\n",
    "    if(tmp2[i]>origin_min_testing[i]):\n",
    "        origin_min_testing[i] = tmp2[i]\n"
   ]
  },
  {
   "cell_type": "code",
   "execution_count": 77,
   "id": "twenty-nightlife",
   "metadata": {},
   "outputs": [
    {
     "name": "stdout",
     "output_type": "stream",
     "text": [
      "Our method:  [0.8486114]\n",
      "typical FL:  [0.81980922]\n"
     ]
    }
   ],
   "source": [
    "print('Our method: ',mean_testing)\n",
    "print('typical FL: ',origin_mean_testing)"
   ]
  },
  {
   "cell_type": "code",
   "execution_count": null,
   "id": "middle-beijing",
   "metadata": {},
   "outputs": [],
   "source": []
  },
  {
   "cell_type": "code",
   "execution_count": null,
   "id": "known-spirit",
   "metadata": {},
   "outputs": [],
   "source": []
  }
 ],
 "metadata": {
  "kernelspec": {
   "display_name": "Python 3",
   "language": "python",
   "name": "python3"
  },
  "language_info": {
   "codemirror_mode": {
    "name": "ipython",
    "version": 3
   },
   "file_extension": ".py",
   "mimetype": "text/x-python",
   "name": "python",
   "nbconvert_exporter": "python",
   "pygments_lexer": "ipython3",
   "version": "3.8.5"
  }
 },
 "nbformat": 4,
 "nbformat_minor": 5
}
